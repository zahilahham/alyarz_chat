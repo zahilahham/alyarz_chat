{
 "cells": [
  {
   "cell_type": "code",
   "execution_count": 3,
   "metadata": {},
   "outputs": [],
   "source": [
    "import os\n",
    "from docx import Document\n",
    "\n",
    "def doc_to_text(doc_path):\n",
    "    doc = Document(doc_path)\n",
    "    text = ''\n",
    "    for paragraph in doc.paragraphs:\n",
    "        text += paragraph.text + '\\n'\n",
    "    return text\n",
    "\n",
    "# Folder path containing the DOC files\n",
    "folder_path = 'operation_expenses_docx'\n",
    "\n",
    "# Create a new folder for the output text files\n",
    "output_folder = 'input_dataset'\n",
    "os.makedirs(output_folder, exist_ok=True)\n",
    "\n",
    "# Iterate over each file in the folder\n",
    "for filename in os.listdir(folder_path):\n",
    "    if filename.endswith('.docx'):\n",
    "        doc_path = os.path.join(folder_path, filename)\n",
    "        text = doc_to_text(doc_path)\n",
    "\n",
    "        # Change the file extension from .doc to .txt\n",
    "        txt_filename = filename[:-4] + '.txt'\n",
    "        txt_path = os.path.join(output_folder, txt_filename)\n",
    "\n",
    "        # Save the plain text to a new file in the output folder\n",
    "        with open(txt_path, 'w') as txt_file:\n",
    "            txt_file.write(text)\n"
   ]
  }
 ],
 "metadata": {
  "kernelspec": {
   "display_name": "gpu_env",
   "language": "python",
   "name": "python3"
  },
  "language_info": {
   "codemirror_mode": {
    "name": "ipython",
    "version": 3
   },
   "file_extension": ".py",
   "mimetype": "text/x-python",
   "name": "python",
   "nbconvert_exporter": "python",
   "pygments_lexer": "ipython3",
   "version": "3.9.16"
  },
  "orig_nbformat": 4
 },
 "nbformat": 4,
 "nbformat_minor": 2
}
