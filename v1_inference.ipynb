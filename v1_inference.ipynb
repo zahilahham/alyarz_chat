{
 "cells": [
  {
   "cell_type": "code",
   "execution_count": 7,
   "metadata": {},
   "outputs": [],
   "source": [
    "index_name = 'alyarz-pinecone-index'\n",
    "text_field = \"text\""
   ]
  },
  {
   "cell_type": "code",
   "execution_count": 8,
   "metadata": {},
   "outputs": [],
   "source": [
    "from langchain.vectorstores import Pinecone\n",
    "import pinecone\n",
    "from credentials_hander import OPENAI_API_KEY\n",
    "from langchain.embeddings.openai import OpenAIEmbeddings\n"
   ]
  },
  {
   "cell_type": "code",
   "execution_count": 9,
   "metadata": {},
   "outputs": [],
   "source": [
    "index = pinecone.Index(index_name)\n",
    "embeddings = OpenAIEmbeddings(openai_api_key=OPENAI_API_KEY,model_name=\"ada\")\n",
    "import pinecone\n",
    "pinecone.init(\n",
    "    api_key=\"46b0be1d-d884-49da-a32b-e774dd426b72\",\n",
    "    environment=\"asia-southeast1-gcp-free\"\n",
    ")"
   ]
  },
  {
   "cell_type": "code",
   "execution_count": 10,
   "metadata": {},
   "outputs": [],
   "source": [
    "vectorstore = Pinecone(\n",
    "        index, embeddings.embed_query, text_field\n",
    "    )"
   ]
  },
  {
   "cell_type": "code",
   "execution_count": 11,
   "metadata": {},
   "outputs": [],
   "source": [
    "from langchain.chat_models import ChatOpenAI\n",
    "from langchain.chains import RetrievalQA\n",
    "llm = ChatOpenAI(\n",
    "        openai_api_key=OPENAI_API_KEY,\n",
    "        model_name='gpt-3.5-turbo',\n",
    "        temperature=0.0\n",
    "    )\n",
    "\n",
    "qa = RetrievalQA.from_chain_type(\n",
    "        llm=llm,\n",
    "        chain_type=\"stuff\",\n",
    "        retriever=vectorstore.as_retriever()\n",
    "    )"
   ]
  },
  {
   "cell_type": "code",
   "execution_count": 14,
   "metadata": {},
   "outputs": [],
   "source": [
    "query = \"December 2019, Discount in USD?\"\n",
    "response = qa.run(query)\n"
   ]
  },
  {
   "cell_type": "code",
   "execution_count": 15,
   "metadata": {},
   "outputs": [
    {
     "name": "stdout",
     "output_type": "stream",
     "text": [
      "In December 2019, there is a discount of 8% for payments made in USD.\n"
     ]
    }
   ],
   "source": [
    "print(response)"
   ]
  }
 ],
 "metadata": {
  "kernelspec": {
   "display_name": "gpu_env",
   "language": "python",
   "name": "python3"
  },
  "language_info": {
   "name": "python",
   "version": "3.9.16"
  },
  "orig_nbformat": 4
 },
 "nbformat": 4,
 "nbformat_minor": 2
}
